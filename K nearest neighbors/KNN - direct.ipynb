{
 "cells": [
  {
   "cell_type": "code",
   "execution_count": 2,
   "metadata": {},
   "outputs": [],
   "source": [
    "from sklearn.utils import shuffle\n",
    "from sklearn.datasets import fetch_mldata\n",
    "from sklearn.cross_validation import train_test_split\n",
    "mnist = fetch_mldata(\"MNIST original\")\n",
    "mnist.data, mnist.target = shuffle(mnist.data, mnist.target)"
   ]
  },
  {
   "cell_type": "code",
   "execution_count": 39,
   "metadata": {},
   "outputs": [
    {
     "name": "stdout",
     "output_type": "stream",
     "text": [
      "200\n",
      "800\n"
     ]
    }
   ],
   "source": [
    "#data size reduction\n",
    "mnist.data = mnist.data[:1000]\n",
    "mnist.target = mnist.target[:1000]\n",
    "X_train, X_test, y_train, y_test = train_test_split(mnist.data, mnist.target, test_size=0.8, random_state=0)\n",
    "print(len(X_train))\n",
    "print(len(X_test))"
   ]
  },
  {
   "cell_type": "code",
   "execution_count": 41,
   "metadata": {},
   "outputs": [],
   "source": [
    "from sklearn.neighbors import KNeighborsClassifier\n",
    "#KNN : K=10 , default measure of Euclidean distance\n",
    "clf = KNeighborsClassifier(3)\n",
    "clf.fit(X_train, y_train)\n",
    "y_pred = clf.predict(X_test)"
   ]
  },
  {
   "cell_type": "code",
   "execution_count": 42,
   "metadata": {},
   "outputs": [
    {
     "name": "stdout",
     "output_type": "stream",
     "text": [
      "             precision    recall  f1-score   support\n",
      "\n",
      "        0.0       0.70      0.84      0.76        75\n",
      "        1.0       0.62      0.99      0.76       102\n",
      "        2.0       0.81      0.55      0.66        87\n",
      "        3.0       0.82      0.62      0.71        76\n",
      "        4.0       0.83      0.54      0.65        99\n",
      "        5.0       0.77      0.61      0.68        71\n",
      "        6.0       0.80      0.94      0.87        65\n",
      "        7.0       0.81      0.63      0.71        82\n",
      "        8.0       0.77      0.54      0.63        67\n",
      "        9.0       0.49      0.80      0.61        76\n",
      "\n",
      "avg / total       0.74      0.71      0.70       800\n",
      "\n"
     ]
    }
   ],
   "source": [
    "from sklearn.metrics import classification_report\n",
    "print(classification_report(y_test, y_pred))"
   ]
  }
 ],
 "metadata": {
  "kernelspec": {
   "display_name": "Python 3",
   "language": "python",
   "name": "python3"
  },
  "language_info": {
   "codemirror_mode": {
    "name": "ipython",
    "version": 3
   },
   "file_extension": ".py",
   "mimetype": "text/x-python",
   "name": "python",
   "nbconvert_exporter": "python",
   "pygments_lexer": "ipython3",
   "version": "3.6.4"
  }
 },
 "nbformat": 4,
 "nbformat_minor": 2
}
